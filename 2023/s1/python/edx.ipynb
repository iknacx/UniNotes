{
 "cells": [
  {
   "attachments": {},
   "cell_type": "markdown",
   "metadata": {},
   "source": [
    "# Ejercicios Hito 1"
   ]
  },
  {
   "attachments": {},
   "cell_type": "markdown",
   "metadata": {},
   "source": [
    "## Parte 1\n",
    "---\n",
    "\n",
    "### Ordenar tres números\n",
    "Escribe un programa que reciba tres números enteros y los imprima ordenados de menor a mayor, separados por una coma."
   ]
  },
  {
   "cell_type": "code",
   "execution_count": 20,
   "metadata": {},
   "outputs": [
    {
     "ename": "NameError",
     "evalue": "name 'sort' is not defined",
     "output_type": "error",
     "traceback": [
      "\u001b[0;31m---------------------------------------------------------------------------\u001b[0m",
      "\u001b[0;31mNameError\u001b[0m                                 Traceback (most recent call last)",
      "Cell \u001b[0;32mIn[20], line 6\u001b[0m\n\u001b[1;32m      3\u001b[0m n2 \u001b[39m=\u001b[39m \u001b[39mint\u001b[39m(\u001b[39minput\u001b[39m())\n\u001b[1;32m      4\u001b[0m n3 \u001b[39m=\u001b[39m \u001b[39mint\u001b[39m(\u001b[39minput\u001b[39m())\n\u001b[0;32m----> 6\u001b[0m ns \u001b[39m=\u001b[39m \u001b[39mlist\u001b[39m(sort([n1, n2, n3]))\n\u001b[1;32m      7\u001b[0m \u001b[39mprint\u001b[39m(ns[\u001b[39m0\u001b[39m], ns[\u001b[39m1\u001b[39m], ns[\u001b[39m2\u001b[39m], sep\u001b[39m=\u001b[39m\u001b[39m\"\u001b[39m\u001b[39m,\u001b[39m\u001b[39m\"\u001b[39m)\n",
      "\u001b[0;31mNameError\u001b[0m: name 'sort' is not defined"
     ]
    }
   ],
   "source": [
    "#Ordenar tres números\n",
    "n1 = int(input())\n",
    "n2 = int(input())\n",
    "n3 = int(input())\n",
    "\n",
    "ns = list(sorted([n1, n2, n3]))\n",
    "print(ns[0], ns[1], ns[2], sep=\",\")"
   ]
  },
  {
   "attachments": {},
   "cell_type": "markdown",
   "metadata": {},
   "source": [
    "### Suma de los N primeros números naturales\n",
    "La suma de los primeros n numeros naturales está dada por: $\\frac{n(n + 1)}{2}$\n",
    "\n",
    "Crea un programa que reciba como parámetro un número N y luego imprima la suma de los N primeros números naturales"
   ]
  },
  {
   "cell_type": "code",
   "execution_count": null,
   "metadata": {},
   "outputs": [],
   "source": [
    "#Suma de los N primeros números\n",
    "def suma_numeros_naturales(n):\n",
    "  return (n*(n+1))/2\n",
    " \n",
    "n = int(input())\n",
    "print(suma_numeros_naturales(n))"
   ]
  },
  {
   "attachments": {},
   "cell_type": "markdown",
   "metadata": {},
   "source": [
    "### Nota Final\n",
    "Realiza un programa para preguntar al usuario cuatro notas:\n",
    "* $PT$ = Tareas\n",
    "* $PI$ = Interrogaciones\n",
    "* $NE$ = Examen\n",
    "* $PP$ = Presentacion\n",
    "\n",
    "Con ellas calcula el promedio final usando la siguiente fórmula: $0.3PT + 0.3PI + 0.3NE + 0.1PP$\n",
    "\n",
    "Imprime el resultado redondeado a un decimal."
   ]
  },
  {
   "cell_type": "code",
   "execution_count": null,
   "metadata": {},
   "outputs": [],
   "source": [
    "#Nota final\n",
    "pt = float(input())\n",
    "pi = float(input())\n",
    "ne = float(input())\n",
    "pp = float(input())\n",
    "\n",
    "pf = 0.3 * pt + 0.3 * pi + 0.3 * ne + 0.1 * pp\n",
    "print(round(pf, 1))"
   ]
  },
  {
   "attachments": {},
   "cell_type": "markdown",
   "metadata": {},
   "source": [
    "### Contestador Automático\n",
    "Escribe un programa para contestar automáticamente el celular, dependiendo de la hora en que llega la llamada y el número de teléfono. El número telefónico debe ser representado por un número entero (int) de 8 cifras (por ejemplo 78735653), mientras que la hora es representada por un número entero entre 0 y 23. Las reglas que rigen si contestarás o no son las siguientes:\n",
    "* Si la llamada ocurre entre 00:00 y 07:00, la contestas ya que podría ser una emergencia.\n",
    "* Si ocurre antes de las 14:00 no la contestas, excepto si el número termina en 909.\n",
    "* Durante la tarde, solamente contestas entre 17:00 y 19:00, exceptuando un número que comienza por 877.\n",
    "* Después de las 19:00, no contestas el celular.\n",
    "\n",
    "El programa debe preguntar al usuario por la hora del día y por el número de celular que llama, e imprimir “CONTESTAR” o “NO CONTESTAR” en pantalla. Algunos ejemplos del comportamiento esperado del programa son:\n",
    "\n",
    "```\n",
    "Ejemplo 1\n",
    ">>> Ingrese numero telefonico: 77389909\n",
    ">>> Ingrese hora de la llamada: 13\n",
    ">>> Resultado: CONTESTAR\n",
    "Ejemplo 2\n",
    ">>> Ingrese numero telefonico: 98927674\n",
    ">>> Ingrese hora de la llamada: 20\n",
    ">>> Resultado: NO CONTESTAR\n",
    "Ejemplo 3\n",
    ">>> Ingrese numero telefonico: 87765545\n",
    ">>> Ingrese hora de la llamada: 18\n",
    ">>> Resultado: NO CONTESTAR\n",
    "```"
   ]
  },
  {
   "cell_type": "code",
   "execution_count": null,
   "metadata": {},
   "outputs": [],
   "source": [
    "#Contestador de celular\n",
    "\n",
    "num = input()\n",
    "hora = int(input())\n",
    "\n",
    "if 0 <= hora <= 7:\n",
    "  print(\"Resultado: CONTESTAR\")\n",
    "elif hora <= 14:\n",
    "  if num.endswith(\"909\"):\n",
    "    print(\"Resultado: CONTESTAR\")\n",
    "  else:\n",
    "    print(\"Resultado: NO CONTESTAR\")\n",
    "elif 17 <= hora <= 19:\n",
    "  if num.startswith(\"877\"):\n",
    "    print(\"Resultado: NO CONTESTAR\")\n",
    "  else:\n",
    "    print(\"Resultado: CONTESTAR\")\n",
    "elif 19 <= hora:\n",
    "  print(\"Resultado: NO CONTESTAR\")\n"
   ]
  },
  {
   "attachments": {},
   "cell_type": "markdown",
   "metadata": {},
   "source": [
    "## Parte 2\n",
    "---\n",
    "### Aprobación de Créditos\n",
    "Un Banco desea implementar una política de atención automatizada de créditos de consumo, y te contrata para programar su servicio. Los postulantes entregarán al banco la siguiente información:\n",
    "* Ingreso (en pesos)\n",
    "* Año de nacimiento\n",
    "* Número de hijos\n",
    "* Años de pertenencia al banco\n",
    "* Estado civil (\"S\": soltero, \"C\", casado)\n",
    "* Si vive en campo o cuidad (\"U\": urbano, \"R\": rural)\n",
    "\n",
    "El banco usará las siguientes reglas para decidir la aprobación del crédito, con una de ellas que se cumpla, se aprueba el crédito:\n",
    "* Si el cliente pertenece más de 10 años al banco, y tiene dos o más hijos.\n",
    "* Si el cliente es casado, tiene más de tres hijos, y tiene entre 45 y 55 años.\n",
    "* Si el cliente posee ingresos superiores a $2.500.000, es soltero y vive en la ciudad.\n",
    "* Si el ciente tiene ingresos superiores a $3.500.000 y pertenece al banco por más de 5 años\n",
    "* Si el cliente vive en el campo, es casado y tiene menos de dos hijos.\n",
    "\n",
    "Tu programa debe preguntar sus datos al cliente, procesarlos, e imprimir el mensaje APROBADO o RECHAZADO según corresponda."
   ]
  },
  {
   "cell_type": "code",
   "execution_count": null,
   "metadata": {},
   "outputs": [],
   "source": [
    "ingreso = int(input())\n",
    "a_nacimiento = int(input())\n",
    "n_hijos = int(input())\n",
    "a_pertenencia_banco = int(input())\n",
    "estado_civil = input()\n",
    "campo_o_ciudad = input()\n",
    "\n",
    "if a_pertenencia_banco > 10 and n_hijos >= 2:\n",
    "    print(\"APROBADO\")\n",
    "elif estado_civil == 'C' and n_hijos > 3 and 45 <= a_nacimiento <= 55:\n",
    "    print(\"APROBADO\")\n",
    "elif ingreso > 2500000 and estado_civil == 'S' and campo_o_ciudad == 'U':\n",
    "    print(\"APROBADO\")\n",
    "elif ingreso > 3500000 and a_pertenencia_banco > 5:\n",
    "    print(\"APROBADO\")\n",
    "elif campo_o_ciudad == 'R' and estado_civil == 'C' and n_hijos < 2:\n",
    "    print(\"APROBADO\")\n",
    "else:\n",
    "    print(\"RECHAZADO\")"
   ]
  },
  {
   "attachments": {},
   "cell_type": "markdown",
   "metadata": {},
   "source": [
    "### Conversor de Decimal a Binario\n",
    "Escribe un programa que reciba como entrada un número decimal e imprima el resultado de convertirlo a binario. Por ejemplo, al ingresar el número 33 tu programa debiera imprimir el siguiente mensaje:\n",
    "\n",
    "resultado=100001"
   ]
  },
  {
   "cell_type": "code",
   "execution_count": 20,
   "metadata": {},
   "outputs": [
    {
     "name": "stdout",
     "output_type": "stream",
     "text": [
      "1000011\n"
     ]
    }
   ],
   "source": [
    "num = int(input())\n",
    "\n",
    "bits = []\n",
    "\n",
    "while (num > 0):\n",
    "  bits.append(str(num % 2))\n",
    "  num //= 2\n",
    "\n",
    "bits = bits[::-1]\n",
    "\n",
    "print(\"resultado=\" + \"\".join(bits))"
   ]
  },
  {
   "attachments": {},
   "cell_type": "markdown",
   "metadata": {},
   "source": [
    "### Cálculo del dígito verificador del rut\n",
    "Escribe un programa que reciba como dato un número que representará un rut al que debe calcularle el dígito verificador. Por ejemplo al ingresar 6016740 tu programa debiera imprimir el siguiente mensaje:\n",
    "\n",
    "dv=0\n",
    "\n",
    "El algoritmo de cálculo del dígito verificador lo puedes obtener del siguiente [link](https://es.wikipedia.org/wiki/Rol_%C3%9Anico_Tributario).\n"
   ]
  },
  {
   "cell_type": "code",
   "execution_count": 30,
   "metadata": {},
   "outputs": [],
   "source": [
    "rut = input()[::-1]\n",
    "\n",
    "seq = [2, 3, 4, 5, 6, 7]\n",
    "\n",
    "suma = 0\n",
    "for i in range(len(rut)):\n",
    "    print(rut[i], seq[i % len(seq)], int(rut[i]) * seq[i % len(seq)])\n",
    "    suma += int(rut[i]) * seq[i % len(seq)]\n",
    "\n",
    "print(suma)\n",
    "dv = 11 - suma % 11\n",
    "\n",
    "if dv == 11:\n",
    "    print(\"dv=0\")\n",
    "elif dv == 10:\n",
    "    print(\"dv=k\")\n",
    "else:\n",
    "    print(\"dv=\" + str(dv))\n"
   ]
  },
  {
   "attachments": {},
   "cell_type": "markdown",
   "metadata": {},
   "source": [
    "## Parte 3\n",
    "---\n",
    "### Signo del Zodíaco\n",
    "Escribe un programa que reciba como parámetro el día y el mes del cumpleaños de una persona (como números enteros) y que imprima el signo del zodíaco al que pertenece.\n",
    "\n",
    "Para determinar las fechas de cada signo utiliza la columna Tropical Zodiac en la tabla de fechas que aparece en este [link](https://en.wikipedia.org/wiki/Zodiac#Table_of_dates)"
   ]
  },
  {
   "cell_type": "code",
   "execution_count": null,
   "metadata": {},
   "outputs": [],
   "source": [
    "#Zodiaco\n",
    "def signo_zodiacal(dia, mes):\n",
    "    if mes == 12:\n",
    "        astro_sign = 'Sagitario' if (dia < 22) else 'Capricornio'\n",
    "    elif mes == 1:\n",
    "        astro_sign = 'Capricornio' if (dia < 20) else 'Acuario'\n",
    "    elif mes == 2:\n",
    "        astro_sign = 'Acuario' if (dia < 19) else 'Piscis'\n",
    "    elif mes == 3:\n",
    "        astro_sign = 'Piscis' if (dia < 21) else 'Aries'\n",
    "    elif mes == 4:\n",
    "        astro_sign = 'Aries' if (dia < 20) else 'Tauro'\n",
    "    elif mes == 5:\n",
    "        astro_sign = 'Tauro' if (dia < 21) else 'Géminis'\n",
    "    elif mes == 6:\n",
    "        astro_sign = 'Géminis' if (dia < 21) else 'Cáncer'\n",
    "    elif mes == 7:\n",
    "        astro_sign = 'Cáncer' if (dia < 23) else 'Leo'\n",
    "    elif mes == 8:\n",
    "        astro_sign = 'Leo' if (dia < 23) else 'Virgo'\n",
    "    elif mes == 9:\n",
    "        astro_sign = 'Virgo' if (dia < 23) else 'Libra'\n",
    "    elif mes == 10:\n",
    "        astro_sign = 'Libra' if (dia < 23) else 'Escorpio'\n",
    "    elif mes == 11:\n",
    "        astro_sign = 'Escorpio' if (dia < 22) else 'Sagitario'\n",
    "\n",
    "    return astro_sign\n",
    "\n",
    "dia = int(input())\n",
    "mes = int(input())\n",
    "print(signo_zodiacal(dia,mes))"
   ]
  },
  {
   "attachments": {},
   "cell_type": "markdown",
   "metadata": {},
   "source": [
    "### Descomponer un número\n",
    "Escribe un programa que le pida al usuario un número de hasta 4 dígitos y que te entregue la descomposición en Unidades, Decenas, Centenas y Miles.\n",
    "Ejemplos:\n",
    "* Para 1230 debe imprimir: 1M + 2C + 3D + 0U\n",
    "* Para 36 debe imprimir: 3D + 6U\n"
   ]
  },
  {
   "cell_type": "code",
   "execution_count": 7,
   "metadata": {},
   "outputs": [
    {
     "name": "stdout",
     "output_type": "stream",
     "text": [
      "1M + 2C + 3D + 0U\n"
     ]
    }
   ],
   "source": [
    "num = int(input())\n",
    "m = str(num // 1000)\n",
    "num %= 1000\n",
    "c = str(num // 100)\n",
    "num %= 100\n",
    "d = str(num // 10)\n",
    "num %= 10\n",
    "u = str(num // 1)\n",
    "\n",
    "print(m + \"M + \" + c + \"C + \" + d + \"D + \" + u + \"U\")"
   ]
  },
  {
   "attachments": {},
   "cell_type": "markdown",
   "metadata": {},
   "source": [
    "## Parte 4\n",
    "---\n",
    "### Números Primos\n",
    "Escribe una función llamada es_primo que retorne True cuando un número es primo y False cuando no lo es.\n"
   ]
  },
  {
   "cell_type": "code",
   "execution_count": 22,
   "metadata": {},
   "outputs": [
    {
     "name": "stdout",
     "output_type": "stream",
     "text": [
      "False\n"
     ]
    }
   ],
   "source": [
    "def es_primo(numero):\n",
    "    div = []\n",
    "    for i in range(1, numero + 1):\n",
    "        if numero%i == 0:\n",
    "            div.append(i)\n",
    "\n",
    "    if len(div) == 2:\n",
    "        if (div[0] == 1 and div[1] == numero):\n",
    "            return True\n",
    "    return False"
   ]
  },
  {
   "attachments": {},
   "cell_type": "markdown",
   "metadata": {},
   "source": [
    "### Números Amigos\n",
    "Dos números a y b se dicen números amigos, si la suma de los divisores de uno de los números es igual al otro número y viceversa (en el cálculo de los divisores, no debes considerar al mismo número). Crea una función que reciba 2 números, y retorne True si es que estos son amigos, y False si es que no lo son."
   ]
  },
  {
   "cell_type": "code",
   "execution_count": 24,
   "metadata": {},
   "outputs": [
    {
     "name": "stdout",
     "output_type": "stream",
     "text": [
      "False\n"
     ]
    }
   ],
   "source": [
    "def amigos(a, b):\n",
    "    if (a == b or a <= 2 or b <= 2):\n",
    "        return False\n",
    "\n",
    "    sum1 = 0\n",
    "    sum2 = 0\n",
    "\n",
    "    for i in range(1, a):\n",
    "        if (i % a == 0):\n",
    "            sum1 += i\n",
    "    for i in range(1, b):\n",
    "        if (i % b == 0):\n",
    "            sum2 += i\n",
    "    \n",
    "    return sum1 == sum2\n",
    "\n",
    "print(amigos(1, 2))"
   ]
  },
  {
   "attachments": {},
   "cell_type": "markdown",
   "metadata": {},
   "source": [
    "## Parte 5\n",
    "---\n",
    "### Resolver un sistema de ecuaciones\n",
    "Escribe un programa que resuelva un sistema de dos ecuaciones con dos incognitas. Tu programa recibirá los seis números reales que representan el sistema y deberá imprimir la dos soluciones redondeadas a un decimal. Ejemplo: Para el sistema $2x+3y=6$ y $x+2y=5$, tu programa debe imprimir\n",
    "* x=-3.0\n",
    "* y=4.0"
   ]
  },
  {
   "cell_type": "code",
   "execution_count": 25,
   "metadata": {},
   "outputs": [
    {
     "name": "stdout",
     "output_type": "stream",
     "text": [
      "x=-3.0\n",
      "y=4.0\n"
     ]
    }
   ],
   "source": [
    "a = int(input())\n",
    "b = int(input())\n",
    "c = int(input())\n",
    "d = int(input())\n",
    "e = int(input())\n",
    "f = int(input())\n",
    "\n",
    "# A + B = C\n",
    "# D + E = F\n",
    "\n",
    "delta = (a * e) - (d * b)\n",
    "\n",
    "delta_x = (c * e) - (f * b)\n",
    "delta_y = (a * f) - (d * c)\n",
    "\n",
    "x = delta_x / delta\n",
    "y = delta_y / delta\n",
    "\n",
    "print(\"x=\" + str(x))\n",
    "print(\"y=\" + str(y))"
   ]
  },
  {
   "attachments": {},
   "cell_type": "markdown",
   "metadata": {},
   "source": [
    "## Parte 6\n",
    "---\n",
    "### Cajero Automático Nivel 1\n",
    "Tu cajero debe pedir un usuario y una clave para ingresar. Al principio debe tener 1.000.000 como saldo inicial. Tu cajero debe dejar ingresar al usuario 10334151 con la clave 1803, quien tiene al inicio del programa 100.000 en su cuenta. Lo único que se puede hacer en este nivel es retirar dinero de la cuenta corriente. Tu programa debe validar la clave y el monto a retirar, indicando el mensaje “clave invalida” cuando la clave no corresponde y al tercer intento fallido debe indicar “tarjeta bloqueada” y salir del programa. Si la clave es válida, debe preguntar por el monto a retirar. Cuando se hace el retiro de un monto que no es válido debe indicar “monto no permitido”, si el monto se puede retirar debe actualizar los saldos e imprimir el nuevo saldo que quedó en la cuenta corriente y el cajero, por ejemplo al retirar 45.000 debiera imprimir:\n",
    "* saldo cuenta=55000\n",
    "* saldo cajero=955000\n",
    "Tu programa debe repetirse continuamente, para salir la persona debe ingresar algo distinto a la letra “N”."
   ]
  },
  {
   "cell_type": "code",
   "execution_count": 27,
   "metadata": {},
   "outputs": [
    {
     "name": "stdout",
     "output_type": "stream",
     "text": [
      "clave invalida\n",
      "clave invalida\n",
      "tarjeta bloqueada\n"
     ]
    }
   ],
   "source": [
    "usuario = 10334151\n",
    "clave = 1803\n",
    "saldo = 1000000\n",
    "\n",
    "saldo_usuario = 100000\n",
    "\n",
    "u = int(input())\n",
    "\n",
    "intentos = 3\n",
    "entrar = False\n",
    "while not entrar:\n",
    "    c = int(input())\n",
    "\n",
    "    if c != clave:\n",
    "        intentos -= 1\n",
    "        if intentos == 0:\n",
    "            print(\"tarjeta bloqueada\")\n",
    "            break\n",
    "        else:\n",
    "            print(\"clave invalida\")\n",
    "    else:\n",
    "        entrar = True\n",
    "\n",
    "while entrar:\n",
    "    monto_retirar = int(input())\n",
    "    if monto_retirar > saldo_usuario or monto_retirar > saldo:\n",
    "        print(\"monto no permitido\")\n",
    "    else:\n",
    "        saldo_usuario -= monto_retirar\n",
    "        saldo -= monto_retirar\n",
    "\n",
    "        print(\"saldo cuenta=\" + str(saldo_usuario))\n",
    "        print(\"saldo cajero=\" + str(saldo))\n",
    "    \n",
    "    if input() != 'N':\n",
    "        break\n",
    "\n"
   ]
  },
  {
   "attachments": {},
   "cell_type": "markdown",
   "metadata": {},
   "source": [
    "### Cajero Automático Nivel 2\n",
    "Ahora tu cajero, además de hacer todo lo que debería hacer en el nivel 1, debe distribuir el monto a retirar entre los diferentes billetes que tiene disponibles, para ello al principio el saldo de 1.000.000 estará distribuido en 20 billetes de 20.000, 40 billetes de 10.000 y 40 billetes de 5.000. Cuando se haga un giro tu cajero además de imprimir los saldos, debe imprimir la cantidad de billetes que le entrega a la persona, por ejemplo al retirar 45.000 podría imprimir:\n",
    "* billetes 20000=1\n",
    "* billetes 10000=3\n",
    "* billetes 5000=1\n",
    "\n",
    "Puedes distribuir los billetes de otra forma, lo importante es que la distribución cuadre con el monto solicitado."
   ]
  },
  {
   "cell_type": "code",
   "execution_count": null,
   "metadata": {},
   "outputs": [],
   "source": [
    "usuario = 10334151\n",
    "clave = 1803\n",
    "saldo = 1000000\n",
    "\n",
    "saldo_usuario = 100000\n",
    "\n",
    "u = int(input())\n",
    "\n",
    "intentos = 3\n",
    "entrar = False\n",
    "while not entrar:\n",
    "    c = int(input())\n",
    "\n",
    "    if c != clave:\n",
    "        intentos -= 1\n",
    "        if intentos == 0:\n",
    "            print(\"tarjeta bloqueada\")\n",
    "            break\n",
    "        else:\n",
    "            print(\"clave invalida\")\n",
    "    else:\n",
    "        entrar = True\n",
    "\n",
    "while entrar:\n",
    "    monto_retirar = int(input())\n",
    "    if monto_retirar > saldo_usuario or monto_retirar > saldo:\n",
    "        print(\"monto no permitido\")\n",
    "    else:\n",
    "        saldo_usuario -= monto_retirar\n",
    "        saldo -= monto_retirar\n",
    "\n",
    "        print(\"saldo cuenta=\" + str(saldo_usuario))\n",
    "        print(\"saldo cajero=\" + str(saldo))\n",
    "\n",
    "        b20 = monto_retirar // 20000\n",
    "        monto_retirar %= 20000\n",
    "        b10 = monto_retirar // 10000\n",
    "        monto_retirar %= 10000\n",
    "        b5 = monto_retirar // 5000\n",
    "        print(\"billetes 20000=\" + str(b20))\n",
    "        print(\"billetes 10000=\" + str(b10))\n",
    "        print(\"billetes 5000=\" + str(b5))\n",
    "\n",
    "    if input() != 'N':\n",
    "        break"
   ]
  },
  {
   "attachments": {},
   "cell_type": "markdown",
   "metadata": {},
   "source": [
    "## Parte 7\n",
    "---\n",
    "### Juego Adivina mi número\n",
    "Crea un programa para el juego adivina mi número. Tú programa debe comenzar por generar aleatoriamente un número entre 1 y 20. El jugador tiene 5 intentos para adivinar el número. En cada intento tu programa debe indicar si el número ingresado es menor o mayor que el número secreto, imprimiendo el mensaje **mi número es menor** o **mi número es mayor**, según corresponda. Cuando el jugador adivina el número o cuando se superan los intentos permitidos tu programa debe terminar e indicar al jugador:\n",
    "* Si adivinó el número debe decir \"Adivinaste, mi número era \" e indicar el número secreto.\n",
    "* Si no adivinó antes que se acabaran los intentos, tu programa debe decir \"No adivinaste, mi número era \" e indicar el número secreto."
   ]
  },
  {
   "cell_type": "code",
   "execution_count": null,
   "metadata": {},
   "outputs": [],
   "source": [
    "import random\n",
    "\n",
    "num = random.randint(1, 20)\n",
    "\n",
    "correcto = False\n",
    "intentos = 5\n",
    "while not correcto:\n",
    "    n = int(input())\n",
    "\n",
    "    if n != num:\n",
    "        intentos -= 1\n",
    "        if intentos == 0:\n",
    "            break\n",
    "\n",
    "        if num > n:\n",
    "            print(\"mi número es menor\")\n",
    "        else:\n",
    "            print(\"mi número es mayor\")\n",
    "    else:\n",
    "        correcto = True\n",
    "\n",
    "if correcto:\n",
    "    print(\"Adivinaste, mi número era\", num)\n",
    "else:\n",
    "    print(\"No adivinaste, mi numero era\", num)"
   ]
  },
  {
   "attachments": {},
   "cell_type": "markdown",
   "metadata": {},
   "source": [
    "## Parte 8\n",
    "---\n",
    "### Factores Primos\n",
    "Crea un programa que imprima la descomposición de factores primos de un número. Tu programa recibirá como entrada un número entero y debe imprimir cada factor primo del número en una línea separada. Por ejemplo para el número 22 debiera imprimir:\n",
    "```\n",
    "2\n",
    "11\n",
    "```\n",
    "Cuando termines tu programa y lo subas para revisión, usa la instrucción input() sin un mensaje entre los paréntesis, para que solamente se muestre en la salida un número en cada línea"
   ]
  },
  {
   "cell_type": "code",
   "execution_count": 30,
   "metadata": {},
   "outputs": [
    {
     "name": "stdout",
     "output_type": "stream",
     "text": [
      "[5, 5, 5]\n"
     ]
    }
   ],
   "source": [
    "num = int(input())\n",
    "\n",
    "factores = []\n",
    "div = 2\n",
    "\n",
    "while div <= num:\n",
    "    if num % div == 0:\n",
    "        factores.append(div)\n",
    "        num /= div\n",
    "    else:\n",
    "        div += 1\n",
    "\n",
    "for i in factores:\n",
    "    print(i)\n",
    "\n"
   ]
  },
  {
   "attachments": {},
   "cell_type": "markdown",
   "metadata": {},
   "source": [
    "# Ejercicios Hito 2"
   ]
  },
  {
   "attachments": {},
   "cell_type": "markdown",
   "metadata": {},
   "source": [
    "## Parte 1\n",
    "---\n",
    "### Suma de los divisores de un número\n",
    "Crea una función que calcule la suma de los divisores de un número sin incluir al número, llamada suma_divisores. Junto con la suma de los divisores haz que la función retorne si el número es primo o no, basándose en que si la suma de sus divisores es 1, el número es primo.\n"
   ]
  },
  {
   "cell_type": "code",
   "execution_count": null,
   "metadata": {},
   "outputs": [],
   "source": [
    "def suma_divisores(a):\n",
    "  suma = 0\n",
    "  for i in range(1, a):\n",
    "    print(i)\n",
    "    if a % i == 0:\n",
    "      suma += i\n",
    "    \n",
    "  es_primo = suma == 1\n",
    "    \n",
    "  return (suma, es_primo)"
   ]
  },
  {
   "attachments": {},
   "cell_type": "markdown",
   "metadata": {},
   "source": [
    "### Calculadora Geométrica\n",
    "Construye un programa que permita calcular el área de un rectángulo, un triángulo, un rombo y un círculo, creando una función específica para cada figura geométrica y con un menú que permita escoger lo que la persona desea calcular. (Importa desde la librería math, la constante pi)."
   ]
  },
  {
   "cell_type": "code",
   "execution_count": 32,
   "metadata": {},
   "outputs": [
    {
     "name": "stdout",
     "output_type": "stream",
     "text": [
      "12.566370614359172\n"
     ]
    }
   ],
   "source": [
    "import math\n",
    "\n",
    "def area_triangulo(base,altura):\n",
    "    return (base * altura) / 2\n",
    "\n",
    "def area_rectangulo(base,altura):\n",
    "    return base * altura\n",
    "\n",
    "def area_rombo(diagonal1,diagonal2):\n",
    "    return (diagonal1 * diagonal2) / 2\n",
    "\n",
    "def area_circulo(radio):\n",
    "    return math.pi * (radio ** 2)\n",
    "\n",
    "print(area_circulo(2))"
   ]
  },
  {
   "attachments": {},
   "cell_type": "markdown",
   "metadata": {},
   "source": [
    "### Números Perfectos\n",
    "Un número se dice número perfecto, si la suma de todos sus divisores es igual al mismo número (No debes considerar como divisor al mismo número). Crea una función llamada **numero_perfecto** que reciba un número y retorne True si es un número perfecto, y False en caso de no serlo."
   ]
  },
  {
   "cell_type": "code",
   "execution_count": null,
   "metadata": {},
   "outputs": [],
   "source": [
    "def numero_perfecto(a):\n",
    "    suma = 0\n",
    "    for i in range(1, a):\n",
    "        if a % i == 0:\n",
    "            suma += i\n",
    "        \n",
    "    if suma == a:\n",
    "        return True\n",
    "    return False\n"
   ]
  },
  {
   "attachments": {},
   "cell_type": "markdown",
   "metadata": {},
   "source": [
    "## Parte 2\n",
    "---\n",
    "### Adivina la palabra\n",
    "El juego consiste en tratar de adivinar una palabra secreta, dando algunas letras como pista. La persona tiene hasta 7 intentos para adivinar la palabra.\n",
    "\n",
    "Tu programa debe:\n",
    "\n",
    "* Crear una lista con palabras secretas, y escoge aleatoriamente cuál palabra usarás para el juego.\n",
    "* Escoger aleatoriamente cuántas letras mostrar de la palabra secreta, de acuerdo a la longitud de la palabra. Para ocultar las letras crea la función ocultar_letras(palabra, cantidad) que debe recibir como parámetro la palabra secreta y ocultar la cantidad de letras indicada, en posiciones aleatoriamente escogidas, reemplazándolas por “_”. Ej. ocultar_letras(“lepidoptero”,1) podría retornar “_epidoptero”, “lep_doptero”, “lepidopter_”, etc.\n",
    "* El jugador debe poder ingresar una letra o arriesgarse a decir la palabra completa. Para revisar si una letra ingresada por el jugador existe en la palabra, crea la función revisar_letra(palabra_secreta, palabra, letra) que verifica si letra existe en la palabra secreta y la reemplaza en todas las posiciones que aparece en la palabra con las letras ocultadas, retornando la nueva palabra que debe mostrarse al jugador. Ej. revisar_letra(“lepidoptero”, ”lepidopter_”, ”o”) debería retornar lepidoptero."
   ]
  },
  {
   "cell_type": "code",
   "execution_count": 8,
   "metadata": {},
   "outputs": [
    {
     "name": "stdout",
     "output_type": "stream",
     "text": [
      "________o______________\n"
     ]
    }
   ],
   "source": [
    "import random\n",
    "\n",
    "def ocultar_letras(palabra, cantidad):\n",
    "    palabra = list(palabra)\n",
    "    done = False\n",
    "    while not done:\n",
    "        idx = random.randint(0, len(palabra) - 1)\n",
    "\n",
    "        if palabra[idx] != '_':\n",
    "            palabra[idx] = '_'\n",
    "            cantidad -= 1\n",
    "\n",
    "        if cantidad == 0:\n",
    "            done = True\n",
    "\n",
    "    return ''.join(palabra)\n",
    "\n",
    "def revisar_letra(palabra_secreta, palabra, letra):\n",
    "    palabra = list(palabra)\n",
    "    for idx in range(len(palabra_secreta)):\n",
    "        if palabra[idx] == '_':\n",
    "            if palabra_secreta[idx] == letra:\n",
    "                palabra[idx] = letra \n",
    "                return ''.join(palabra)\n",
    "    return palabra\n",
    "\n"
   ]
  },
  {
   "attachments": {},
   "cell_type": "markdown",
   "metadata": {},
   "source": [
    "### Jerigonzo\n",
    "Crea una función, que reciba un texto, y retorne el mismo texto traducido a jerigonzo. El Jerigonzo, es un idioma en que después de cada vocal, se agrega una p, y repite la vocal."
   ]
  },
  {
   "cell_type": "code",
   "execution_count": 3,
   "metadata": {},
   "outputs": [
    {
     "data": {
      "text/plain": [
       "'paparapalepelepepipipepedopo'"
      ]
     },
     "execution_count": 3,
     "metadata": {},
     "output_type": "execute_result"
    }
   ],
   "source": [
    "def jerigonzo(string):\n",
    "    string = list(string)\n",
    "    vocales = ['a', 'e', 'i', 'o', 'u']\n",
    "\n",
    "    for i in range(len(string)):\n",
    "        if string[i] in vocales:\n",
    "            string[i] += 'p' + string[i]\n",
    "    \n",
    "    return ''.join(string)\n",
    "\n",
    "jerigonzo(\"paralelepipedo\")"
   ]
  },
  {
   "attachments": {},
   "cell_type": "markdown",
   "metadata": {},
   "source": [
    "## Parte 3\n",
    "---\n",
    "### Encriptador ROT13\n",
    "El [encriptador ROT13](https://es.wikipedia.org/wiki/ROT13), es un tipo de cifrado llamado de desplazamiento. Este tipo de cifrados eran usados en tiempos de los romanos para proteger mensajes militares importantes. Se dice que Julio César, usaba este tipo de algoritmo para proteger sus mensajes, razón por la cual, se le suele llamar “cifrado César” a este tipo de codificación. Crea la función rot13 que reciba una palabra y la retorne encriptada."
   ]
  },
  {
   "cell_type": "code",
   "execution_count": 21,
   "metadata": {},
   "outputs": [
    {
     "name": "stdout",
     "output_type": "stream",
     "text": [
      "El resultado es:  cnenyryrcvcrqb\n"
     ]
    }
   ],
   "source": [
    "def rot13(palabra):\n",
    "    palabra = list(palabra)\n",
    "    for i in range(len(palabra)):\n",
    "        l = palabra[i]\n",
    "        if 'A' <= l <= 'Z':\n",
    "            palabra[i] = chr((ord(l) + 13 - 65) % 26 + 65)\n",
    "        else:\n",
    "            palabra[i] = chr((ord(l) + 13 - 97) % 26 + 97)\n",
    "\n",
    "    return ''.join(palabra)\n",
    "\n",
    "palabra = input(\"Ingresa la palabra que quieras encriptar: \")\n",
    "palabra.lower()\n",
    "resultado = rot13(palabra)\n",
    "print(\"El resultado es: \",resultado)"
   ]
  }
 ],
 "metadata": {
  "kernelspec": {
   "display_name": "Python 3",
   "language": "python",
   "name": "python3"
  },
  "language_info": {
   "codemirror_mode": {
    "name": "ipython",
    "version": 3
   },
   "file_extension": ".py",
   "mimetype": "text/x-python",
   "name": "python",
   "nbconvert_exporter": "python",
   "pygments_lexer": "ipython3",
   "version": "3.11.3"
  },
  "orig_nbformat": 4
 },
 "nbformat": 4,
 "nbformat_minor": 2
}
